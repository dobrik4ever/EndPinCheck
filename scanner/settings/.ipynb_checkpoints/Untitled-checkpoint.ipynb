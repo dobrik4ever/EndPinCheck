{
 "cells": [
  {
   "cell_type": "code",
   "execution_count": 6,
   "metadata": {},
   "outputs": [
    {
     "data": {
      "text/html": [
       "<div>\n",
       "<style scoped>\n",
       "    .dataframe tbody tr th:only-of-type {\n",
       "        vertical-align: middle;\n",
       "    }\n",
       "\n",
       "    .dataframe tbody tr th {\n",
       "        vertical-align: top;\n",
       "    }\n",
       "\n",
       "    .dataframe thead th {\n",
       "        text-align: right;\n",
       "    }\n",
       "</style>\n",
       "<table border=\"1\" class=\"dataframe\">\n",
       "  <thead>\n",
       "    <tr style=\"text-align: right;\">\n",
       "      <th></th>\n",
       "      <th>inverted</th>\n",
       "      <th>speed</th>\n",
       "      <th>acceleration</th>\n",
       "      <th>max distance</th>\n",
       "      <th>purpose</th>\n",
       "    </tr>\n",
       "    <tr>\n",
       "      <th>M</th>\n",
       "      <th></th>\n",
       "      <th></th>\n",
       "      <th></th>\n",
       "      <th></th>\n",
       "      <th></th>\n",
       "    </tr>\n",
       "  </thead>\n",
       "  <tbody>\n",
       "    <tr>\n",
       "      <td>M1</td>\n",
       "      <td>yes</td>\n",
       "      <td>1000</td>\n",
       "      <td>10000</td>\n",
       "      <td>1125</td>\n",
       "      <td>focus</td>\n",
       "    </tr>\n",
       "    <tr>\n",
       "      <td>M2</td>\n",
       "      <td>no</td>\n",
       "      <td>1000</td>\n",
       "      <td>10000</td>\n",
       "      <td>2400</td>\n",
       "      <td>stage x</td>\n",
       "    </tr>\n",
       "    <tr>\n",
       "      <td>M3</td>\n",
       "      <td>yes</td>\n",
       "      <td>1000</td>\n",
       "      <td>10000</td>\n",
       "      <td>5000</td>\n",
       "      <td>stage y</td>\n",
       "    </tr>\n",
       "    <tr>\n",
       "      <td>M4</td>\n",
       "      <td>no</td>\n",
       "      <td>1000</td>\n",
       "      <td>10000</td>\n",
       "      <td>1125</td>\n",
       "      <td>condensor</td>\n",
       "    </tr>\n",
       "    <tr>\n",
       "      <td>M5</td>\n",
       "      <td>no</td>\n",
       "      <td>1000</td>\n",
       "      <td>10000</td>\n",
       "      <td>1500</td>\n",
       "      <td>-</td>\n",
       "    </tr>\n",
       "    <tr>\n",
       "      <td>M6</td>\n",
       "      <td>yes</td>\n",
       "      <td>1000</td>\n",
       "      <td>10000</td>\n",
       "      <td>1500</td>\n",
       "      <td>-</td>\n",
       "    </tr>\n",
       "    <tr>\n",
       "      <td>M7</td>\n",
       "      <td>no</td>\n",
       "      <td>1000</td>\n",
       "      <td>10000</td>\n",
       "      <td>1500</td>\n",
       "      <td>-</td>\n",
       "    </tr>\n",
       "    <tr>\n",
       "      <td>M8</td>\n",
       "      <td>no</td>\n",
       "      <td>1000</td>\n",
       "      <td>10000</td>\n",
       "      <td>1500</td>\n",
       "      <td>-</td>\n",
       "    </tr>\n",
       "    <tr>\n",
       "      <td>M9</td>\n",
       "      <td>no</td>\n",
       "      <td>1000</td>\n",
       "      <td>10000</td>\n",
       "      <td>1500</td>\n",
       "      <td>-</td>\n",
       "    </tr>\n",
       "    <tr>\n",
       "      <td>M10</td>\n",
       "      <td>no</td>\n",
       "      <td>1000</td>\n",
       "      <td>10000</td>\n",
       "      <td>1500</td>\n",
       "      <td>-</td>\n",
       "    </tr>\n",
       "  </tbody>\n",
       "</table>\n",
       "</div>"
      ],
      "text/plain": [
       "    inverted  speed  acceleration  max distance    purpose\n",
       "M                                                         \n",
       "M1       yes   1000         10000          1125      focus\n",
       "M2        no   1000         10000          2400    stage x\n",
       "M3       yes   1000         10000          5000    stage y\n",
       "M4        no   1000         10000          1125  condensor\n",
       "M5        no   1000         10000          1500          -\n",
       "M6       yes   1000         10000          1500          -\n",
       "M7        no   1000         10000          1500          -\n",
       "M8        no   1000         10000          1500          -\n",
       "M9        no   1000         10000          1500          -\n",
       "M10       no   1000         10000          1500          -"
      ]
     },
     "execution_count": 6,
     "metadata": {},
     "output_type": "execute_result"
    }
   ],
   "source": [
    "import pandas as pd\n",
    "df = pd.read_excel('motors.xlsx')\n",
    "df.set_index('M',inplace = True)\n",
    "df"
   ]
  },
  {
   "cell_type": "code",
   "execution_count": 7,
   "metadata": {},
   "outputs": [],
   "source": [
    "m_borders = {}"
   ]
  },
  {
   "cell_type": "code",
   "execution_count": 9,
   "metadata": {},
   "outputs": [
    {
     "data": {
      "text/plain": [
       "{'M1': 1125,\n",
       " 'M2': 2400,\n",
       " 'M3': 5000,\n",
       " 'M4': 1125,\n",
       " 'M5': 1500,\n",
       " 'M6': 1500,\n",
       " 'M7': 1500,\n",
       " 'M8': 1500,\n",
       " 'M9': 1500,\n",
       " 'M10': 1500}"
      ]
     },
     "execution_count": 9,
     "metadata": {},
     "output_type": "execute_result"
    }
   ],
   "source": [
    "for i in m_borders:\n",
    "    m_borders[i] = df.loc[i,'max distance']\n",
    "m_borders"
   ]
  },
  {
   "cell_type": "code",
   "execution_count": null,
   "metadata": {},
   "outputs": [],
   "source": []
  }
 ],
 "metadata": {
  "kernelspec": {
   "display_name": "Python 3",
   "language": "python",
   "name": "python3"
  },
  "language_info": {
   "codemirror_mode": {
    "name": "ipython",
    "version": 3
   },
   "file_extension": ".py",
   "mimetype": "text/x-python",
   "name": "python",
   "nbconvert_exporter": "python",
   "pygments_lexer": "ipython3",
   "version": "3.7.4"
  }
 },
 "nbformat": 4,
 "nbformat_minor": 4
}
